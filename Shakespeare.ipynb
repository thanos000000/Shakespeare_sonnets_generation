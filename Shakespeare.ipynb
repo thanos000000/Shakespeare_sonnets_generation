{
 "cells": [
  {
   "cell_type": "code",
   "execution_count": 15,
   "metadata": {},
   "outputs": [
    {
     "name": "stdout",
     "output_type": "stream",
     "text": [
      "2159\n"
     ]
    }
   ],
   "source": [
    "import numpy as np\n",
    "corpus = open('sonnets.txt').read()\n",
    "corpus = corpus.lower().split('\\n')\n",
    "print(len(corpus))\n",
    "#corpus = corpus[:2100]"
   ]
  },
  {
   "cell_type": "code",
   "execution_count": 16,
   "metadata": {},
   "outputs": [
    {
     "data": {
      "text/plain": [
       "'from fairest creatures we desire increase,'"
      ]
     },
     "execution_count": 16,
     "metadata": {},
     "output_type": "execute_result"
    }
   ],
   "source": [
    "len(corpus)\n",
    "corpus[0]"
   ]
  },
  {
   "cell_type": "code",
   "execution_count": 17,
   "metadata": {},
   "outputs": [],
   "source": [
    "from keras.preprocessing.text import Tokenizer\n",
    "from keras.preprocessing.sequence import pad_sequences\n",
    "from keras.utils import to_categorical\n",
    "from keras.models import Sequential\n",
    "from keras.layers import Embedding,Bidirectional,LSTM,Dense"
   ]
  },
  {
   "cell_type": "code",
   "execution_count": 18,
   "metadata": {},
   "outputs": [],
   "source": [
    "token = Tokenizer()\n",
    "token.fit_on_texts(corpus)\n",
    "total_words = len(token.word_index) + 1"
   ]
  },
  {
   "cell_type": "code",
   "execution_count": 19,
   "metadata": {},
   "outputs": [
    {
     "data": {
      "text/plain": [
       "[[34, 417],\n",
       " [34, 417, 877],\n",
       " [34, 417, 877, 166],\n",
       " [34, 417, 877, 166, 213],\n",
       " [34, 417, 877, 166, 213, 517],\n",
       " [8, 878],\n",
       " [8, 878, 134],\n",
       " [8, 878, 134, 351],\n",
       " [8, 878, 134, 351, 102],\n",
       " [8, 878, 134, 351, 102, 156],\n",
       " [8, 878, 134, 351, 102, 156, 199],\n",
       " [16, 22],\n",
       " [16, 22, 2],\n",
       " [16, 22, 2, 879],\n",
       " [16, 22, 2, 879, 61]]"
      ]
     },
     "execution_count": 19,
     "metadata": {},
     "output_type": "execute_result"
    }
   ],
   "source": [
    "input_seq = []\n",
    "for line in corpus:\n",
    "    seq = token.texts_to_sequences([line])[0]\n",
    "    #print(token.texts_to_sequences([line]))\n",
    "    for i in range(1,len(seq)):\n",
    "        n_gram = seq[:i+1]\n",
    "        input_seq.append(n_gram)\n",
    "input_seq[:15]"
   ]
  },
  {
   "cell_type": "code",
   "execution_count": 20,
   "metadata": {},
   "outputs": [],
   "source": [
    "maxlen = max([len(x) for x in input_seq])\n",
    "X = pad_sequences(input_seq,padding='pre',maxlen = maxlen)\n",
    "X,Y = X[:,:-1] , X[:,-1]"
   ]
  },
  {
   "cell_type": "code",
   "execution_count": 21,
   "metadata": {},
   "outputs": [
    {
     "data": {
      "text/plain": [
       "15462"
      ]
     },
     "execution_count": 21,
     "metadata": {},
     "output_type": "execute_result"
    }
   ],
   "source": [
    "type(X)\n",
    "X[:5]\n",
    "Y[:5]\n",
    "len(input_seq)"
   ]
  },
  {
   "cell_type": "code",
   "execution_count": 22,
   "metadata": {},
   "outputs": [],
   "source": [
    "Y = to_categorical(Y , num_classes=total_words)"
   ]
  },
  {
   "cell_type": "code",
   "execution_count": 11,
   "metadata": {
    "scrolled": true
   },
   "outputs": [
    {
     "name": "stdout",
     "output_type": "stream",
     "text": [
      "[0. 0. 0. ... 0. 0. 0.]\n"
     ]
    }
   ],
   "source": [
    "print(len(Y[5])"
   ]
  },
  {
   "cell_type": "code",
   "execution_count": 23,
   "metadata": {},
   "outputs": [
    {
     "name": "stdout",
     "output_type": "stream",
     "text": [
      "Model: \"sequential_1\"\n",
      "_________________________________________________________________\n",
      "Layer (type)                 Output Shape              Param #   \n",
      "=================================================================\n",
      "embedding_1 (Embedding)      (None, 10, 64)            205504    \n",
      "_________________________________________________________________\n",
      "bidirectional_1 (Bidirection (None, 80)                33600     \n",
      "_________________________________________________________________\n",
      "dense_1 (Dense)              (None, 3211)              260091    \n",
      "=================================================================\n",
      "Total params: 499,195\n",
      "Trainable params: 499,195\n",
      "Non-trainable params: 0\n",
      "_________________________________________________________________\n"
     ]
    }
   ],
   "source": [
    "model = Sequential()\n",
    "model.add(Embedding(total_words, 64, input_length=maxlen-1))\n",
    "model.add(Bidirectional(LSTM(40)))\n",
    "model.add(Dense(total_words, activation='softmax'))\n",
    "model.compile(loss='categorical_crossentropy', optimizer='adam', metrics=['accuracy'])\n",
    "model.summary()"
   ]
  },
  {
   "cell_type": "code",
   "execution_count": 24,
   "metadata": {},
   "outputs": [
    {
     "name": "stdout",
     "output_type": "stream",
     "text": [
      "Epoch 1/100\n",
      "484/484 [==============================] - 5s 10ms/step - loss: 6.9136 - accuracy: 0.0217\n",
      "Epoch 2/100\n",
      "484/484 [==============================] - 5s 11ms/step - loss: 6.4968 - accuracy: 0.0265\n",
      "Epoch 3/100\n",
      "484/484 [==============================] - 5s 11ms/step - loss: 6.3743 - accuracy: 0.0336\n",
      "Epoch 4/100\n",
      "484/484 [==============================] - 6s 12ms/step - loss: 6.2398 - accuracy: 0.0385\n",
      "Epoch 5/100\n",
      "484/484 [==============================] - 5s 11ms/step - loss: 6.0943 - accuracy: 0.0414\n",
      "Epoch 6/100\n",
      "484/484 [==============================] - 5s 10ms/step - loss: 5.9450 - accuracy: 0.0471\n",
      "Epoch 7/100\n",
      "484/484 [==============================] - 5s 10ms/step - loss: 5.7839 - accuracy: 0.0527\n",
      "Epoch 8/100\n",
      "484/484 [==============================] - 5s 10ms/step - loss: 5.6146 - accuracy: 0.0592 0s - loss: 5.6093 - accuracy\n",
      "Epoch 9/100\n",
      "484/484 [==============================] - 5s 10ms/step - loss: 5.4472 - accuracy: 0.0689\n",
      "Epoch 10/100\n",
      "484/484 [==============================] - 5s 10ms/step - loss: 5.2930 - accuracy: 0.0752\n",
      "Epoch 11/100\n",
      "484/484 [==============================] - 5s 10ms/step - loss: 5.1436 - accuracy: 0.0795\n",
      "Epoch 12/100\n",
      "484/484 [==============================] - 5s 10ms/step - loss: 5.0063 - accuracy: 0.0900\n",
      "Epoch 13/100\n",
      "484/484 [==============================] - 5s 10ms/step - loss: 4.8692 - accuracy: 0.1002\n",
      "Epoch 14/100\n",
      "484/484 [==============================] - 5s 10ms/step - loss: 4.7443 - accuracy: 0.1101\n",
      "Epoch 15/100\n",
      "484/484 [==============================] - 5s 10ms/step - loss: 4.6190 - accuracy: 0.1246\n",
      "Epoch 16/100\n",
      "484/484 [==============================] - 5s 10ms/step - loss: 4.4969 - accuracy: 0.1350\n",
      "Epoch 17/100\n",
      "484/484 [==============================] - ETA: 0s - loss: 4.3774 - accuracy: 0.14 - 5s 10ms/step - loss: 4.3769 - accuracy: 0.1475\n",
      "Epoch 18/100\n",
      "484/484 [==============================] - 5s 10ms/step - loss: 4.2630 - accuracy: 0.1616\n",
      "Epoch 19/100\n",
      "484/484 [==============================] - 5s 10ms/step - loss: 4.1486 - accuracy: 0.1805\n",
      "Epoch 20/100\n",
      "484/484 [==============================] - 5s 11ms/step - loss: 4.0375 - accuracy: 0.1989\n",
      "Epoch 21/100\n",
      "484/484 [==============================] - 5s 11ms/step - loss: 3.9300 - accuracy: 0.2187 0s\n",
      "Epoch 22/100\n",
      "484/484 [==============================] - 6s 12ms/step - loss: 3.8234 - accuracy: 0.2350\n",
      "Epoch 23/100\n",
      "484/484 [==============================] - 5s 11ms/step - loss: 3.7220 - accuracy: 0.2507\n",
      "Epoch 24/100\n",
      "484/484 [==============================] - 6s 12ms/step - loss: 3.6193 - accuracy: 0.2663\n",
      "Epoch 25/100\n",
      "484/484 [==============================] - 5s 11ms/step - loss: 3.5163 - accuracy: 0.2833\n",
      "Epoch 26/100\n",
      "484/484 [==============================] - 5s 10ms/step - loss: 3.4246 - accuracy: 0.3046\n",
      "Epoch 27/100\n",
      "484/484 [==============================] - 5s 10ms/step - loss: 3.3279 - accuracy: 0.3194\n",
      "Epoch 28/100\n",
      "484/484 [==============================] - 5s 10ms/step - loss: 3.2399 - accuracy: 0.3351\n",
      "Epoch 29/100\n",
      "484/484 [==============================] - 5s 10ms/step - loss: 3.1519 - accuracy: 0.3544\n",
      "Epoch 30/100\n",
      "484/484 [==============================] - 5s 10ms/step - loss: 3.0714 - accuracy: 0.3662\n",
      "Epoch 31/100\n",
      "484/484 [==============================] - 5s 10ms/step - loss: 2.9901 - accuracy: 0.3816\n",
      "Epoch 32/100\n",
      "484/484 [==============================] - 5s 10ms/step - loss: 2.9180 - accuracy: 0.3950\n",
      "Epoch 33/100\n",
      "484/484 [==============================] - 5s 10ms/step - loss: 2.8424 - accuracy: 0.4093\n",
      "Epoch 34/100\n",
      "484/484 [==============================] - 5s 10ms/step - loss: 2.7744 - accuracy: 0.4212\n",
      "Epoch 35/100\n",
      "484/484 [==============================] - 5s 10ms/step - loss: 2.7001 - accuracy: 0.4356\n",
      "Epoch 36/100\n",
      "484/484 [==============================] - 5s 10ms/step - loss: 2.6308 - accuracy: 0.4500 0s - l\n",
      "Epoch 37/100\n",
      "484/484 [==============================] - 5s 10ms/step - loss: 2.5750 - accuracy: 0.4633\n",
      "Epoch 38/100\n",
      "484/484 [==============================] - 5s 10ms/step - loss: 2.5091 - accuracy: 0.4745\n",
      "Epoch 39/100\n",
      "484/484 [==============================] - 5s 10ms/step - loss: 2.4533 - accuracy: 0.4867\n",
      "Epoch 40/100\n",
      "484/484 [==============================] - 5s 10ms/step - loss: 2.3987 - accuracy: 0.4946\n",
      "Epoch 41/100\n",
      "484/484 [==============================] - 5s 10ms/step - loss: 2.3434 - accuracy: 0.5085\n",
      "Epoch 42/100\n",
      "484/484 [==============================] - 5s 10ms/step - loss: 2.2880 - accuracy: 0.5197\n",
      "Epoch 43/100\n",
      "484/484 [==============================] - 5s 10ms/step - loss: 2.2365 - accuracy: 0.5268\n",
      "Epoch 44/100\n",
      "484/484 [==============================] - 5s 11ms/step - loss: 2.1908 - accuracy: 0.5365 0s\n",
      "Epoch 45/100\n",
      "484/484 [==============================] - 5s 10ms/step - loss: 2.1424 - accuracy: 0.5471\n",
      "Epoch 46/100\n",
      "484/484 [==============================] - 5s 10ms/step - loss: 2.1076 - accuracy: 0.5523 0s - loss: 2\n",
      "Epoch 47/100\n",
      "484/484 [==============================] - 5s 10ms/step - loss: 2.0600 - accuracy: 0.5611\n",
      "Epoch 48/100\n",
      "484/484 [==============================] - 5s 10ms/step - loss: 2.0124 - accuracy: 0.5717\n",
      "Epoch 49/100\n",
      "484/484 [==============================] - 5s 10ms/step - loss: 1.9681 - accuracy: 0.5845\n",
      "Epoch 50/100\n",
      "484/484 [==============================] - 5s 10ms/step - loss: 1.9390 - accuracy: 0.5888\n",
      "Epoch 51/100\n",
      "484/484 [==============================] - 6s 12ms/step - loss: 1.8967 - accuracy: 0.5951\n",
      "Epoch 52/100\n",
      "484/484 [==============================] - 5s 10ms/step - loss: 1.8523 - accuracy: 0.6065\n",
      "Epoch 53/100\n",
      "484/484 [==============================] - 6s 12ms/step - loss: 1.8347 - accuracy: 0.6085 0s - loss: 1.8290 - \n",
      "Epoch 54/100\n",
      "484/484 [==============================] - 6s 11ms/step - loss: 1.7848 - accuracy: 0.6180\n",
      "Epoch 55/100\n",
      "484/484 [==============================] - 5s 10ms/step - loss: 1.7357 - accuracy: 0.6303\n",
      "Epoch 56/100\n",
      "484/484 [==============================] - 5s 10ms/step - loss: 1.7224 - accuracy: 0.6326\n",
      "Epoch 57/100\n",
      "484/484 [==============================] - 5s 10ms/step - loss: 1.6787 - accuracy: 0.6398\n",
      "Epoch 58/100\n",
      "484/484 [==============================] - 5s 10ms/step - loss: 1.6542 - accuracy: 0.6465\n",
      "Epoch 59/100\n",
      "484/484 [==============================] - 5s 10ms/step - loss: 1.6298 - accuracy: 0.6480\n",
      "Epoch 60/100\n",
      "484/484 [==============================] - 5s 11ms/step - loss: 1.5931 - accuracy: 0.6590\n",
      "Epoch 61/100\n",
      "484/484 [==============================] - 5s 10ms/step - loss: 1.5616 - accuracy: 0.6649\n",
      "Epoch 62/100\n",
      "484/484 [==============================] - 5s 10ms/step - loss: 1.5377 - accuracy: 0.6686\n",
      "Epoch 63/100\n",
      "484/484 [==============================] - 5s 10ms/step - loss: 1.5178 - accuracy: 0.6727\n",
      "Epoch 64/100\n",
      "484/484 [==============================] - 5s 10ms/step - loss: 1.4868 - accuracy: 0.6786\n",
      "Epoch 65/100\n",
      "484/484 [==============================] - 5s 10ms/step - loss: 1.4597 - accuracy: 0.6848\n",
      "Epoch 66/100\n",
      "484/484 [==============================] - 5s 10ms/step - loss: 1.4353 - accuracy: 0.6895\n",
      "Epoch 67/100\n",
      "484/484 [==============================] - 6s 12ms/step - loss: 1.4056 - accuracy: 0.6966\n",
      "Epoch 68/100\n",
      "484/484 [==============================] - 5s 10ms/step - loss: 1.3837 - accuracy: 0.7008\n",
      "Epoch 69/100\n",
      "484/484 [==============================] - 5s 10ms/step - loss: 1.3660 - accuracy: 0.7031 0s - loss: 1.3639 - accuracy: 0.\n",
      "Epoch 70/100\n",
      "484/484 [==============================] - 5s 11ms/step - loss: 1.3384 - accuracy: 0.7077\n",
      "Epoch 71/100\n",
      "484/484 [==============================] - 5s 10ms/step - loss: 1.3195 - accuracy: 0.7141\n",
      "Epoch 72/100\n",
      "484/484 [==============================] - 5s 11ms/step - loss: 1.3071 - accuracy: 0.7135\n",
      "Epoch 73/100\n",
      "484/484 [==============================] - 5s 10ms/step - loss: 1.2703 - accuracy: 0.7244\n",
      "Epoch 74/100\n",
      "484/484 [==============================] - 5s 10ms/step - loss: 1.2542 - accuracy: 0.7286\n",
      "Epoch 75/100\n",
      "484/484 [==============================] - 5s 10ms/step - loss: 1.2398 - accuracy: 0.7313\n",
      "Epoch 76/100\n",
      "484/484 [==============================] - 5s 10ms/step - loss: 1.2205 - accuracy: 0.7336 0s - loss: 1.2111  - ETA: 0s - loss: 1.2205 - accuracy: 0.73\n",
      "Epoch 77/100\n",
      "484/484 [==============================] - 5s 10ms/step - loss: 1.2020 - accuracy: 0.7377\n",
      "Epoch 78/100\n",
      "484/484 [==============================] - 5s 10ms/step - loss: 1.1876 - accuracy: 0.7401 0s - l\n",
      "Epoch 79/100\n",
      "484/484 [==============================] - 5s 10ms/step - loss: 1.1723 - accuracy: 0.7416\n",
      "Epoch 80/100\n",
      "484/484 [==============================] - 5s 10ms/step - loss: 1.1506 - accuracy: 0.7476\n",
      "Epoch 81/100\n",
      "484/484 [==============================] - 5s 10ms/step - loss: 1.1283 - accuracy: 0.7506\n",
      "Epoch 82/100\n",
      "484/484 [==============================] - 5s 10ms/step - loss: 1.1174 - accuracy: 0.7542\n",
      "Epoch 83/100\n",
      "484/484 [==============================] - 5s 10ms/step - loss: 1.1038 - accuracy: 0.7559\n",
      "Epoch 84/100\n",
      "484/484 [==============================] - 5s 10ms/step - loss: 1.0955 - accuracy: 0.7578\n",
      "Epoch 85/100\n",
      "484/484 [==============================] - 5s 10ms/step - loss: 1.0694 - accuracy: 0.7646\n",
      "Epoch 86/100\n",
      "484/484 [==============================] - 5s 10ms/step - loss: 1.0558 - accuracy: 0.7676\n",
      "Epoch 87/100\n",
      "484/484 [==============================] - 5s 10ms/step - loss: 1.0445 - accuracy: 0.7676\n",
      "Epoch 88/100\n",
      "484/484 [==============================] - 5s 10ms/step - loss: 1.0255 - accuracy: 0.7721\n",
      "Epoch 89/100\n",
      "484/484 [==============================] - 5s 10ms/step - loss: 1.0169 - accuracy: 0.7725\n",
      "Epoch 90/100\n",
      "484/484 [==============================] - 5s 10ms/step - loss: 1.0112 - accuracy: 0.7745\n",
      "Epoch 91/100\n",
      "484/484 [==============================] - 5s 10ms/step - loss: 0.9987 - accuracy: 0.7788\n",
      "Epoch 92/100\n",
      "484/484 [==============================] - 5s 10ms/step - loss: 0.9812 - accuracy: 0.7834\n",
      "Epoch 93/100\n",
      "484/484 [==============================] - 5s 10ms/step - loss: 0.9755 - accuracy: 0.7793\n",
      "Epoch 94/100\n",
      "484/484 [==============================] - 5s 10ms/step - loss: 0.9569 - accuracy: 0.7875\n",
      "Epoch 95/100\n",
      "484/484 [==============================] - 5s 10ms/step - loss: 0.9303 - accuracy: 0.7924\n",
      "Epoch 96/100\n",
      "484/484 [==============================] - 5s 10ms/step - loss: 0.9478 - accuracy: 0.7873\n",
      "Epoch 97/100\n",
      "484/484 [==============================] - 5s 10ms/step - loss: 0.9281 - accuracy: 0.7928\n",
      "Epoch 98/100\n",
      "484/484 [==============================] - 5s 10ms/step - loss: 0.9308 - accuracy: 0.7898\n",
      "Epoch 99/100\n",
      "484/484 [==============================] - 5s 10ms/step - loss: 0.9198 - accuracy: 0.7923\n",
      "Epoch 100/100\n",
      "484/484 [==============================] - 5s 10ms/step - loss: 0.8933 - accuracy: 0.7995 0s - loss: 0.8884 - accuracy: \n"
     ]
    }
   ],
   "source": [
    "history = model.fit(X,Y, epochs=100, verbose=1)"
   ]
  },
  {
   "cell_type": "code",
   "execution_count": 25,
   "metadata": {},
   "outputs": [
    {
     "name": "stdout",
     "output_type": "stream",
     "text": [
      "Help me Obi Wan Kenobi, you're my only hope me should the lie it stores string worth ' have a short repose of weeds forbidden force dwell play'd didst trespass summer winds canst dispraise speed pass fearfully back again waning painter's gild'st thy part hour self grow date had his guard sense turn dearer picture this this worth perceivest\n"
     ]
    }
   ],
   "source": [
    "seed_text = \"Help me Obi Wan Kenobi, you're my only hope\"\n",
    "next_words = 50\n",
    "  \n",
    "for _ in range(next_words):\n",
    "    token_list = token.texts_to_sequences([seed_text])[0]\n",
    "    token_list = pad_sequences([token_list], maxlen=maxlen-1, padding='pre')\n",
    "    predicted = model.predict_classes(token_list, verbose=0)\n",
    "    output_word = \"\"\n",
    "    for word, index in token.word_index.items():\n",
    "        if index == predicted:\n",
    "            output_word = word\n",
    "            break\n",
    "    seed_text += \" \" + output_word\n",
    "print(seed_text)"
   ]
  },
  {
   "cell_type": "code",
   "execution_count": null,
   "metadata": {},
   "outputs": [],
   "source": []
  }
 ],
 "metadata": {
  "kernelspec": {
   "display_name": "Python 3 (ipykernel)",
   "language": "python",
   "name": "python3"
  },
  "language_info": {
   "codemirror_mode": {
    "name": "ipython",
    "version": 3
   },
   "file_extension": ".py",
   "mimetype": "text/x-python",
   "name": "python",
   "nbconvert_exporter": "python",
   "pygments_lexer": "ipython3",
   "version": "3.8.3"
  }
 },
 "nbformat": 4,
 "nbformat_minor": 4
}
